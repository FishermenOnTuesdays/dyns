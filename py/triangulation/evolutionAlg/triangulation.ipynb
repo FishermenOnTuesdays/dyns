{
 "cells": [
  {
   "cell_type": "code",
   "execution_count": null,
   "metadata": {},
   "outputs": [],
   "source": [
    "import random, copy, os, operator, sys\n",
    "from joblib import Parallel, delayed\n",
    "\n",
    "import numpy as np\n",
    "# from numba import jit\n",
    "import matplotlib\n",
    "import matplotlib.pyplot as plt\n",
    "matplotlib.rcParams[\"figure.dpi\"] = 100\n",
    "from scipy.spatial import Delaunay\n",
    "from PointSystem import PointSystem\n",
    "\n",
    "from perlin_noise import PerlinNoise"
   ]
  },
  {
   "cell_type": "code",
   "execution_count": null,
   "metadata": {},
   "outputs": [],
   "source": [
    "def evalObject(object, f: callable) -> tuple[any, float]:\n",
    "    e = object.evaluate(f)\n",
    "    # res = e if e < 1 else (1 / object.M**2) / sys.float_info.epsilon\n",
    "    # res = e * 1 / np.power(object.M)\n",
    "    # res = e if e < 1 else 1 + np.sqrt(np.log10(np.log10((1 / object.M**2) / sys.float_info.epsilon)))\n",
    "    # res = e if e < 1 else np.log10((1 / object.M**2) / sys.float_info.epsilon)\n",
    "    # res = e if e < 1 else 1 + 1 / object.M\n",
    "    res = e\n",
    "    return (object, res)\n",
    "\n",
    "def evalObjectList(objectList: list[any], f: callable) -> list[tuple[any, float]]:\n",
    "    return Parallel(n_jobs=os.cpu_count())(delayed(evalObject)(object, f) for object in objectList)\n",
    "\n",
    "def mutateXevalObject(object, f: callable) -> tuple[any, float]:\n",
    "    object.Mutate(f)\n",
    "    return evalObject(object, f)\n",
    "\n",
    "def mutateXevalObjectList(objectList: list[any], f: callable) -> list[tuple[any, float]]:\n",
    "    return Parallel(n_jobs=os.cpu_count())(delayed(mutateXevalObject)(object, f) for object in objectList)\n",
    "\n",
    "def generatePopulation(objectGenerator: callable, population_size: int = 100) -> list:\n",
    "    return [objectGenerator() for _ in range(population_size)]\n",
    "\n",
    "# @jit\n",
    "def training(f: callable, population: list, epochs: int = 100):\n",
    "    \n",
    "    population_size = len(population)\n",
    "    # генерируем популяцию\n",
    "    objects = evalObjectList(population, f)\n",
    "    objects.sort(key=lambda d: d[1], reverse=False)\n",
    "    evaluations = [d[1] for d in objects]\n",
    "    plt.plot(evaluations, color='black', label='#')\n",
    "\n",
    "    bestList = list()\n",
    "\n",
    "    # \"обучаем\"\n",
    "    for epoch in range(epochs):\n",
    "        \n",
    "        _objects: list[PointSystem] = list()\n",
    "        \n",
    "        while len(_objects) < population_size:\n",
    "            i = random.choice(range(population_size))\n",
    "            # prob = np.exp(-np.pi*(i/population_size)+1)\n",
    "            # prob = 1/(np.pi*np.pi*np.pi*(i/population_size+0.001))\n",
    "            # prob = -np.log(i/population_size)\n",
    "            x = i / population_size\n",
    "            prob = np.exp(-(np.pi*x)**2)#+np.power(10, x)\n",
    "            if random.random() < prob:\n",
    "                _objects.append(copy.deepcopy(objects[i][0]))\n",
    "        \n",
    "        objects = mutateXevalObjectList(_objects, f)\n",
    "        # objects.sort(key=lambda d: d[1], reverse=True)\n",
    "        objects.sort(key = operator.itemgetter(1), reverse=False)\n",
    "        evaluations = [d[1] for d in objects]\n",
    "        if i % 10 == 0: plt.plot(evaluations, label=f'#{epoch}')\n",
    "        bestList.append(objects[0])\n",
    "        # if evaluations[0] >= 1:\n",
    "        #     break\n",
    "    \n",
    "    print(f'лучший результат: {evaluations[0]}')\n",
    "    # plt.legend()\n",
    "    plt.show()\n",
    "    \n",
    "    return [d[0] for d in objects], bestList"
   ]
  },
  {
   "cell_type": "code",
   "execution_count": null,
   "metadata": {},
   "outputs": [],
   "source": [
    "N = 2       # размерность системы\n",
    "M = 10    # число точек\n",
    "\n",
    "noise_generator = PerlinNoise(octaves=2, seed=1)\n",
    "# ng = lambda point: noise_generator(point) * 3 + 2\n",
    "# ng = lambda point: noise_generator(point) * 10 + 6\n",
    "# ng = lambda point: 0.5\n",
    "# ng = lambda point: np.exp((-np.linalg.norm(point-0.5)) / (0.5/3)**2) * 100\n",
    "ng = lambda point: np.exp((-np.power(np.linalg.norm(point-0.5), 2)) / (0.5/3)**2) * 100"
   ]
  },
  {
   "cell_type": "code",
   "execution_count": null,
   "metadata": {},
   "outputs": [],
   "source": [
    "p = np.array([0.3,0.4])\n",
    "np.power(np.linalg.norm(p-0.5), 2)"
   ]
  },
  {
   "cell_type": "code",
   "execution_count": null,
   "metadata": {},
   "outputs": [],
   "source": [
    "p = np.array([0.7,0.8])\n",
    "p, ng(p), np.linalg.norm(p)"
   ]
  },
  {
   "cell_type": "code",
   "execution_count": null,
   "metadata": {},
   "outputs": [],
   "source": [
    "PointSystem.grad(ng, p, 0.001)"
   ]
  },
  {
   "cell_type": "code",
   "execution_count": null,
   "metadata": {},
   "outputs": [],
   "source": [
    "# res, bestList = training(ng, generatePopulation(lambda: PointSystem(10, N), 16), 100)\n",
    "res, bestList = training(ng, generatePopulation(lambda: PointSystem(81, 2, True), 32), 100)"
   ]
  },
  {
   "cell_type": "code",
   "execution_count": null,
   "metadata": {},
   "outputs": [],
   "source": [
    "n, m = 100, 100\n",
    "# ng = lambda i, j: noise_generator([i/n, j/m]) * 10 + 6\n",
    "noise = np.array([[ng(np.array([i/n, j/n])) for j in range(n)] for i in range(n)])\n",
    "extent = [0, 1, 0, 1]\n",
    "im = plt.imshow(noise, extent=extent, cmap='RdBu', interpolation='nearest')\n",
    "plt.colorbar(im)\n",
    "# ps = PointSystem(256**4, 2, True)\n",
    "ps = res[0]\n",
    "# ps = PointSystem(49, 2, True)\n",
    "tri = ps.triangulation\n",
    "points = ps.points\n",
    "plt.triplot(points[:,0], points[:,1], tri.simplices, color='grey')\n",
    "plt.plot(points[:,0], points[:,1], 'o', color='black')\n",
    "plt.gca().set_aspect('equal', adjustable='box')\n",
    "plt.show(), ps.evaluate(ng), ps.characteristic_distance, ps.M, len(ps.edges), ps.boundary_points"
   ]
  },
  {
   "cell_type": "code",
   "execution_count": null,
   "metadata": {},
   "outputs": [],
   "source": [
    "res, bestList = training(ng, generatePopulation(lambda: copy.deepcopy(res[0]), 96), 100)"
   ]
  },
  {
   "cell_type": "code",
   "execution_count": null,
   "metadata": {},
   "outputs": [],
   "source": [
    "ps = PointSystem(16, 2, True)\n",
    "tri = ps.triangulation\n",
    "points = ps.points\n",
    "plt.triplot(points[:,0], points[:,1], tri.simplices, color='grey')\n",
    "plt.plot(points[:,0], points[:,1], 'o', color='black')\n",
    "plt.gca().set_aspect('equal', adjustable='box')\n",
    "plt.show(), ps.evaluate(ng), ps.characteristic_distance, ps.M, len(ps.edges)"
   ]
  },
  {
   "cell_type": "code",
   "execution_count": null,
   "metadata": {},
   "outputs": [],
   "source": [
    "len(bestList)"
   ]
  },
  {
   "cell_type": "code",
   "execution_count": null,
   "metadata": {},
   "outputs": [],
   "source": [
    "import matplotlib\n",
    "from matplotlib import pyplot as plt\n",
    "from celluloid import Camera\n",
    "\n",
    "n, m = 100, 100\n",
    "# ng = lambda i, j: noise_generator([i/n, j/m]) * 10 + 6\n",
    "noise = np.array([[ng(np.array([i/n, j/n])) for j in range(n)] for i in range(n)])\n",
    "extent = [0, 1, 0, 1]\n",
    "fig = plt.figure(dpi = 300)\n",
    "im = plt.imshow(noise, extent=extent, cmap='RdBu', interpolation='nearest')\n",
    "\n",
    "plt.gca().set_aspect('equal', adjustable='box')\n",
    "\n",
    "camera = Camera(fig)\n",
    "for i, ps in enumerate(bestList[:]):\n",
    "    tri = ps[0].triangulation\n",
    "    points = ps[0].points\n",
    "    plt.triplot(points[:,0], points[:,1], tri.simplices, color='grey')\n",
    "    t = plt.plot(points[:,0], points[:,1], 'o', color='black')\n",
    "    im = plt.imshow(noise, extent=extent, cmap='RdBu', interpolation='nearest')\n",
    "    # plt.colorbar(im)\n",
    "    plt.legend(t, [f'#{i}'], loc='upper center', bbox_to_anchor=(0.5, -0.05))\n",
    "    camera.snap()\n",
    "\n",
    "animation = camera.animate()\n",
    "animation.save('evolution_animation.gif', writer = 'imagemagick')"
   ]
  },
  {
   "cell_type": "code",
   "execution_count": null,
   "metadata": {},
   "outputs": [],
   "source": [
    "# arr = np.zeros((M, M))\n",
    "h = 1/M\n",
    "points = list()\n",
    "for n in range(M):\n",
    "    for m in range(M):\n",
    "        if m % 2 == 0:\n",
    "            point = [h*n, np.sqrt(3)/2*h*m]\n",
    "        else:\n",
    "            point = [h*(n+0.5), np.sqrt(3)/2*h*m]\n",
    "        points.append(point)\n",
    "points.append([0, 1])\n",
    "# points.append([1, 0])\n",
    "points = np.array(points)\n",
    "plt.plot(points[:,0], points[:,1], 'o', color='black')"
   ]
  },
  {
   "cell_type": "code",
   "execution_count": null,
   "metadata": {},
   "outputs": [],
   "source": [
    "ps = res[0]\n",
    "tri = ps.triangulation\n",
    "points = ps.points\n",
    "plt.triplot(points[:,0], points[:,1], tri.simplices, color='grey')\n",
    "plt.plot(points[:,0], points[:,1], 'o', color='black')\n",
    "plt.gca().set_aspect('equal', adjustable='box')\n",
    "plt.show()"
   ]
  },
  {
   "cell_type": "code",
   "execution_count": null,
   "metadata": {},
   "outputs": [],
   "source": [
    "[evalObject(r, ng)[1] for r in res]"
   ]
  },
  {
   "cell_type": "code",
   "execution_count": null,
   "metadata": {},
   "outputs": [],
   "source": [
    "ps = PointSystem(M, N)\n",
    "# x, y = points.T\n",
    "# plt.scatter(x,y)\n",
    "# plt.show()\n",
    "tri = ps.triangulation\n",
    "points = ps.points\n",
    "plt.triplot(points[:,0], points[:,1], tri.simplices)\n",
    "plt.plot(points[:,0], points[:,1], 'o')\n",
    "plt.gca().set_aspect('equal', adjustable='box')\n",
    "plt.show(), ps.evaluate(ng)"
   ]
  },
  {
   "cell_type": "code",
   "execution_count": null,
   "metadata": {},
   "outputs": [],
   "source": [
    "import plotly.graph_objects as go\n",
    "n, m = 100, 100\n",
    "\n",
    "# ng = lambda i, j: noise_generator([i/n, j/m]) * 10 + 6\n",
    "noise = np.array([[ng(np.array([i/n, j/n])) for j in range(n)] for i in range(n)])\n",
    "\n",
    "fig = go.Figure(data=[\n",
    "    go.Surface(z=noise)\n",
    "    ])\n",
    "fig.update_layout(title='surface', autosize=False,\n",
    "                  width=500, height=500,\n",
    "                  margin=dict(l=65, r=50, b=65, t=90))\n",
    "\n",
    "fig.show()"
   ]
  },
  {
   "cell_type": "code",
   "execution_count": null,
   "metadata": {},
   "outputs": [],
   "source": [
    "fig"
   ]
  },
  {
   "cell_type": "code",
   "execution_count": null,
   "metadata": {},
   "outputs": [],
   "source": [
    "np.gradient(ng)"
   ]
  },
  {
   "cell_type": "code",
   "execution_count": null,
   "metadata": {},
   "outputs": [],
   "source": []
  },
  {
   "cell_type": "code",
   "execution_count": null,
   "metadata": {},
   "outputs": [],
   "source": [
    "# @jit\n",
    "def training(M: int, N: int, population_size: int = 100, epochs: int = 100):\n",
    "    \n",
    "    # генерируем популяцию\n",
    "    PSs: list[PointSystem] = list()\n",
    "    Es: list[float] = list()\n",
    "    for _ in range(population_size):\n",
    "        ps = PointSystem(M, N)\n",
    "        e = ps.evaluate(ng)\n",
    "        PSs.append((ps, e))\n",
    "        Es.append(e)\n",
    "    PSs.sort(key=lambda d: d[1], reverse=True)\n",
    "    Es.sort(reverse=True)\n",
    "    plt.plot(Es, color='black', label='#')\n",
    "\n",
    "    # \"обучаем\"\n",
    "    for epoch in range(epochs):\n",
    "        newPSs: list[PointSystem] = list()\n",
    "        newEs: list[float] = list()\n",
    "        while len(newPSs) < population_size:\n",
    "            i = random.choice(range(population_size))\n",
    "            # prob = np.exp(-np.pi*(i/population_size)+1)\n",
    "            # prob = 1/(np.pi*np.pi*np.pi*(i/population_size+0.001))\n",
    "            # prob = -np.log(i/population_size)\n",
    "            prob = np.exp(-(np.pi*i)**2/population_size**2)\n",
    "            if random.random() < prob:\n",
    "                newPS = copy.deepcopy(PSs[i][0])\n",
    "                newPS.Mutate()\n",
    "                e = newPS.evaluate(ng)\n",
    "                newPSs.append((newPS, e))\n",
    "                newEs.append(e)\n",
    "        newPSs.sort(key=lambda d: d[1], reverse=True)\n",
    "        newEs.sort(reverse=True)\n",
    "        plt.plot(newEs, label=f'#{epoch}')\n",
    "        PSs = newPSs\n",
    "        Es = newEs\n",
    "    \n",
    "    print(f'лучший результат: {Es[0]}')\n",
    "    plt.legend()\n",
    "    plt.show()"
   ]
  },
  {
   "cell_type": "code",
   "execution_count": null,
   "metadata": {},
   "outputs": [],
   "source": [
    "training(M, N, 100, 10)"
   ]
  },
  {
   "cell_type": "code",
   "execution_count": null,
   "metadata": {},
   "outputs": [],
   "source": []
  }
 ],
 "metadata": {
  "interpreter": {
   "hash": "e60b69fad7eba0eee4d415be7bcc31dcdd008801768bebcb83ad9d286d7c1dd2"
  },
  "kernelspec": {
   "display_name": "Python 3.9.10 64-bit",
   "language": "python",
   "name": "python3"
  },
  "language_info": {
   "codemirror_mode": {
    "name": "ipython",
    "version": 3
   },
   "file_extension": ".py",
   "mimetype": "text/x-python",
   "name": "python",
   "nbconvert_exporter": "python",
   "pygments_lexer": "ipython3",
   "version": "3.9.2"
  },
  "orig_nbformat": 4
 },
 "nbformat": 4,
 "nbformat_minor": 2
}
