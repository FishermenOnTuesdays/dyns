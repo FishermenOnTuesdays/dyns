{
 "cells": [
  {
   "cell_type": "code",
   "execution_count": null,
   "metadata": {},
   "outputs": [],
   "source": [
    "import numpy as np\n",
    "import matplotlib\n",
    "import matplotlib.pyplot as plt\n",
    "matplotlib.rcParams[\"figure.dpi\"] = 100\n",
    "import plotly.graph_objects as go\n",
    "\n",
    "from perlin_noise import PerlinNoise\n",
    "\n",
    "from PointSystem import PointSystem"
   ]
  },
  {
   "cell_type": "code",
   "execution_count": null,
   "metadata": {},
   "outputs": [],
   "source": [
    "# noise_generator = PerlinNoise(octaves=2, seed=1)\n",
    "#K = lambda point: 1/((np.exp((-np.power(np.linalg.norm(point-0.5), 2)) / (0.5/3)**1) * 1000) + (np.exp((-np.power(np.linalg.norm((point-1)-0.5), 2)) / (0.5/3)**1) * 1000) + (np.exp((-np.power(np.linalg.norm((point-2)-0.5), 2)) / (0.5/3)**1) * 1000) + (np.exp((-np.power(np.linalg.norm((point-3)-0.5), 2)) / (0.5/3)**1) * 1000))\n",
    "K = lambda point: 1/(np.exp((-np.power(np.linalg.norm(point-0.5), 2)) / (0.5/3)**1) * 1000)\n",
    "\n",
    "noise = np.array([[K(np.array([i/100, j/100])) for j in range(200)] for i in range(100)])\n",
    "\n",
    "fig = go.Figure(data=[\n",
    "    go.Surface(z=noise)\n",
    "    ])\n",
    "fig.update_layout(title='surface', autosize=False,\n",
    "                  width=500, height=500,\n",
    "                  margin=dict(l=65, r=50, b=65, t=90))\n",
    "\n",
    "fig.show()"
   ]
  },
  {
   "cell_type": "code",
   "execution_count": null,
   "metadata": {},
   "outputs": [],
   "source": [
    "ps = PointSystem(2, np.array([0.5, 1]), np.array([1, 2]), lambda v: np.array([1, 1]), K, 0.1)"
   ]
  },
  {
   "cell_type": "code",
   "execution_count": null,
   "metadata": {},
   "outputs": [],
   "source": [
    "ps.alphas, ps.isValid(), plt.scatter(*zip(*list(ps.points)), s=0.1)"
   ]
  },
  {
   "cell_type": "code",
   "execution_count": null,
   "metadata": {},
   "outputs": [],
   "source": [
    "ps.propagate()"
   ]
  },
  {
   "cell_type": "code",
   "execution_count": null,
   "metadata": {},
   "outputs": [],
   "source": [
    "len(ps.points)"
   ]
  },
  {
   "cell_type": "code",
   "execution_count": null,
   "metadata": {},
   "outputs": [],
   "source": [
    "noise_generator = PerlinNoise(octaves=2, seed=1)\n",
    "f = lambda point: 1/(noise_generator(point) * 500 + 300)"
   ]
  },
  {
   "cell_type": "code",
   "execution_count": null,
   "metadata": {},
   "outputs": [],
   "source": [
    "ps = PointSystem(1, np.array([2.5]), np.array([5]), lambda v: np.array([1]), K, 10)"
   ]
  },
  {
   "cell_type": "code",
   "execution_count": null,
   "metadata": {},
   "outputs": [],
   "source": [
    "ps.isValid(), ps.res"
   ]
  },
  {
   "cell_type": "code",
   "execution_count": null,
   "metadata": {},
   "outputs": [],
   "source": [
    "X = np.linspace(0, 5, 100)\n",
    "plt.scatter(x=list(ps.points), y=np.zeros(len(ps.points)), s=1)\n",
    "plt.plot(X, 1/np.vectorize(K)(X))\n",
    "plt.show()"
   ]
  },
  {
   "cell_type": "code",
   "execution_count": null,
   "metadata": {},
   "outputs": [],
   "source": [
    "len(ps.points)"
   ]
  },
  {
   "cell_type": "code",
   "execution_count": null,
   "metadata": {},
   "outputs": [],
   "source": [
    "ps.propagate()"
   ]
  }
 ],
 "metadata": {
  "interpreter": {
   "hash": "b460384b52104c1e5b9cf54bee46a255d22b2bef338f75ac4ad5d48196028d3c"
  },
  "kernelspec": {
   "display_name": "Python 3.10.2 64-bit",
   "language": "python",
   "name": "python3"
  },
  "language_info": {
   "codemirror_mode": {
    "name": "ipython",
    "version": 3
   },
   "file_extension": ".py",
   "mimetype": "text/x-python",
   "name": "python",
   "nbconvert_exporter": "python",
   "pygments_lexer": "ipython3",
   "version": "3.9.2"
  },
  "orig_nbformat": 4
 },
 "nbformat": 4,
 "nbformat_minor": 2
}
