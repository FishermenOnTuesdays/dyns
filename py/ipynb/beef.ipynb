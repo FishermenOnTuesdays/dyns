{
 "cells": [
  {
   "cell_type": "code",
   "execution_count": 51,
   "metadata": {},
   "outputs": [
    {
     "name": "stderr",
     "output_type": "stream",
     "text": [
      "C:\\Users\\karra\\Anaconda3\\lib\\site-packages\\numba\\cuda\\decorators.py:113: UserWarning: autojit is deprecated and will be removed in a future release. Use jit instead.\n",
      "  warn('autojit is deprecated and will be removed in a future release. Use jit instead.')\n"
     ]
    },
    {
     "name": "stdout",
     "output_type": "stream",
     "text": [
      "with GPU: 9.655389199999945\n"
     ]
    },
    {
     "data": {
      "image/png": "[encoded data removed]",
      "text/plain": [
       "<Figure size 432x288 with 1 Axes>"
      ]
     },
     "metadata": {
      "needs_background": "light"
     },
     "output_type": "display_data"
    }
   ],
   "source": [
    "from numba import jit, cuda\n",
    "import matplotlib.pyplot as plt\n",
    "import numpy as np\n",
    "import pandas as pd\n",
    "\n",
    "# to measure exec time \n",
    "from timeit import default_timer as timer\n",
    "\n",
    "def drawgraph(xs, ys):\n",
    "    #plt.plot(xs, ys, linestyle='-', linewidth = 1)\n",
    "    plt.scatter(xs, ys, 2, \"#0000FF\", linestyle='-')\n",
    "    \n",
    "# function optimized to run on gpu  \n",
    "@jit(target =\"cuda\")\n",
    "def func(xs, ts, n, A):\n",
    "    # const\n",
    "    x = 0.1\n",
    "    dt = 0.0001\n",
    "    \n",
    "    def F(x):\n",
    "        return A * x * (1 - x)\n",
    "    \n",
    "    for t in range(n):\n",
    "        xs[t] = x\n",
    "        #-----------------------------------------------------\n",
    "        k1_x = F(x)\n",
    "        k2_x = F(x + dt / 2 * k1_x)\n",
    "        k3_x = F(x + dt / 2 * k2_x)\n",
    "        k4_x = F(x + dt * k3_x)\n",
    "        #-----------------------------------------------------\n",
    "        #x += dt / 6 * (k1_x + 2 * k2_x + 2 * k3_x + k4_x)\n",
    "        x = F(x)\n",
    "        #-----------------------------------------------------\n",
    "        ts[t] = t\n",
    "\n",
    "if __name__==\"__main__\":\n",
    "\n",
    "    n = 100000\n",
    "    start = timer()\n",
    "    \n",
    "    As = []\n",
    "    Xs = []\n",
    "    A = 0.0\n",
    "    for Ai in range(1000):\n",
    "        xs = np.ones(n, dtype = np.float64)\n",
    "        ts = np.ones(n,  dtype = np.float64)\n",
    "        A = Ai/100\n",
    "\n",
    "        func(xs, ts, n, A)\n",
    "        \n",
    "        used = []\n",
    "        for i in range(1, 100):\n",
    "            xs_ = xs[n - i]\n",
    "            if not (xs_ in used):\n",
    "                used.append(xs_)\n",
    "                As.append(A)\n",
    "                Xs.append(xs_)\n",
    "\n",
    "    drawgraph(As, Xs)\n",
    "    \n",
    "    print(\"with GPU:\", timer()-start)\n",
    "    #plt.show()"
   ]
  },
  {
   "cell_type": "code",
   "execution_count": null,
   "metadata": {},
   "outputs": [],
   "source": [
    "    As = []\n",
    "    Xs = []\n",
    "    A = 0.0\n",
    "    for Ai in range(0, 1000):\n",
    "        xs = np.ones(n, dtype = np.float64)\n",
    "        ts = np.ones(n,  dtype = np.float64)\n",
    "        A = Ai/100\n",
    "        func(xs, ts, n)\n",
    "        As.append(A)\n",
    "        Xs.append(xs[n - 1])\n",
    "        drawgraph(xs, ts)"
   ]
  }
 ],
 "metadata": {
  "kernelspec": {
   "display_name": "Python 3",
   "language": "python",
   "name": "python3"
  },
  "language_info": {
   "codemirror_mode": {
    "name": "ipython",
    "version": 3
   },
   "file_extension": ".py",
   "mimetype": "text/x-python",
   "name": "python",
   "nbconvert_exporter": "python",
   "pygments_lexer": "ipython3",
   "version": "3.7.4"
  }
 },
 "nbformat": 4,
 "nbformat_minor": 2
}
